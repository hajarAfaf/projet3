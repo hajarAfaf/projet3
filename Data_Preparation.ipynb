# Download latest version
data_path = Path(kagglehub.dataset_download("divyansh22/dummy-astronomy-data"))
TARGET_DIR = Path("/content/data")

TARGET_DIR.mkdir(exist_ok=True)
!rsync -a "{data_path}/" "{TARGET_DIR}/"
cutout_path = os.path.join(data_path, "Cutout Files")
print("Contenu Cutout Files :", os.listdir(cutout_path))
print("Path to dataset files:", data_path)
star_path = os.path.join(cutout_path, "star")
galaxy_path = os.path.join(cutout_path, "galaxy")
print(f"Nombre étoiles disponibles: {len(os.listdir(star_path))}")
print(f"Nombre galaxies disponibles: {len(os.listdir(galaxy_path))}")

def load_images_from_folder(folder, label, img_size=(64,64)):
    images = []
    labels = []
    for filename in os.listdir(folder):
        img_path = os.path.join(folder, filename)
        img = tf.keras.preprocessing.image.load_img(img_path, target_size=img_size)
        img_array = tf.keras.preprocessing.image.img_to_array(img) / 255.0
        images.append(img_array)
        labels.append(label)
    return images, labels

stars, star_labels = load_images_from_folder(star_path, 0)
galaxies, galaxy_labels = load_images_from_folder(galaxy_path, 1)

X = np.array(stars + galaxies)
y = np.array(star_labels + galaxy_labels)

print(f"Dataset total : {len(X)} images")

test_datagen = ImageDataGenerator(rescale=1./255)

test_generator = test_datagen.flow(X_test, y_test, batch_size=BATCH_SIZE)
