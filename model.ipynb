

def multi_task_model(input_shape=(64,64,3), num_classes=2):
    model = tf.keras.models.Sequential([
    tf.keras.layers.Conv2D(32, (3,3), activation='relu', input_shape=(64,64,3)),
    tf.keras.layers.MaxPooling2D(2,2),
    tf.keras.layers.Conv2D(64, (3,3), activation='relu'),
    tf.keras.layers.MaxPooling2D(2,2),
    tf.keras.layers.Flatten(),
    tf.keras.layers.Dense(64, activation='relu'),
    tf.keras.layers.Dense(2, activation='softmax')
    ])
    model.compile(optimizer='adam',
                loss='sparse_categorical_crossentropy',
                metrics=['accuracy'])
    return model

# ✅ Crée l'instance du modèle
model = multi_task_model()


history = model.fit(X_train, y_train, epochs=20,
                    validation_data=(X_val, y_val), batch_size=32)


# Après l'entraînement
model.save('mon_modele.keras')
MODEL_PATH = "mon_modele.keras"

files.download("mon_modele.keras")
