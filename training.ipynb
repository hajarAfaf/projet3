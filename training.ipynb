import tensorflow as tf
from tensorflow.keras.layers import Conv2D, MaxPooling2D, Flatten, Dense
from tensorflow.keras.models import Sequential

def multi_task_model(input_shape=(64,64,3), num_classes=2):
    model = Sequential([
        Conv2D(32, (3,3), activation='relu', input_shape=input_shape),
        MaxPooling2D(2,2),
        Conv2D(64, (3,3), activation='relu'),
        MaxPooling2D(2,2),
        Flatten(),  # ✅ rend les données compatibles avec Dense
        Dense(64, activation='relu'),
        Dense(num_classes, activation='softmax')
    ])
    model.compile(optimizer='adam',
                loss='sparse_categorical_crossentropy',
                metrics=['accuracy'])
    return model

# ✅ Crée l'instance du modèle
model = multi_task_model()
model.save("saved_model.keras")

# ✅ Lance l'entraînement sans batch_size (car déjà dans train_generator)
history = model.fit(train_generator, epochs=10, validation_data=val_generator)

